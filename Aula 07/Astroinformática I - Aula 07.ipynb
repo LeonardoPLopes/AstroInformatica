{
 "cells": [
  {
   "cell_type": "markdown",
   "metadata": {},
   "source": [
    "# Astroinformática I - Aula 07\n",
    "\n",
    "## Assuntos cobertos: Amostragem de Arrays Unidimensionais"
   ]
  },
  {
   "cell_type": "markdown",
   "metadata": {},
   "source": [
    "### Aqui esta mostrando o Random.choice(x,y) x - digita as posições / y - escolhe quatos numeros vão ser sorteados(y não pode passar das posições que existem, se não causa um erro."
   ]
  },
  {
   "cell_type": "code",
   "execution_count": 65,
   "metadata": {
    "collapsed": false,
    "scrolled": false
   },
   "outputs": [
    {
     "name": "stdout",
     "output_type": "stream",
     "text": [
      "['Lucas' 'leonardo' 'leonardo']\n",
      " \n",
      "import numpy as np\n",
      "a=np.random,choice(5,3)\n",
      "print(a)\n",
      "Exemplo anterior\n"
     ]
    }
   ],
   "source": [
    "import numpy as np\n",
    "d=np.array(['leonardo','João','Lucas','Geraldo','Cleber'])\n",
    "a=np.random.choice(d,3)\n",
    "print(a)\n",
    "\n",
    "print(\" \")\n",
    "\n",
    "print(\"\"\"import numpy as np\n",
    "a=np.random,choice(5,3)\n",
    "print(a)\n",
    "Exemplo anterior\"\"\")"
   ]
  },
  {
   "cell_type": "markdown",
   "metadata": {},
   "source": [
    "### O replace é  feito para não ser feito o numero novamente"
   ]
  },
  {
   "cell_type": "code",
   "execution_count": 87,
   "metadata": {
    "collapsed": false
   },
   "outputs": [
    {
     "name": "stdout",
     "output_type": "stream",
     "text": [
      "[0 2 4 3 1]\n",
      "\n",
      "a=np.random.choice(5,3,replace=False)\n",
      "print(a)\n",
      "Exemplo Anterior\n"
     ]
    }
   ],
   "source": [
    "a=np.random.choice(5,5,replace=False)\n",
    "print(a)\n",
    "\n",
    "print(\"\")\n",
    "\n",
    "print(\"\"\"a=np.random.choice(5,3,replace=False)\n",
    "print(a)\n",
    "Exemplo Anterior\"\"\")"
   ]
  },
  {
   "cell_type": "markdown",
   "metadata": {},
   "source": [
    "### Aqui p mostra a probabilidade\n",
    "#### Aqui mostra como se fosse um dado viciado!!"
   ]
  },
  {
   "cell_type": "code",
   "execution_count": 131,
   "metadata": {
    "collapsed": false
   },
   "outputs": [
    {
     "name": "stdout",
     "output_type": "stream",
     "text": [
      "[3 3 2]\n"
     ]
    }
   ],
   "source": [
    "a=np.random.choice(6,3,p=[0.1,0,0.3,0.6,0,0])\n",
    "print(a)"
   ]
  },
  {
   "cell_type": "markdown",
   "metadata": {},
   "source": [
    "### Junção de  Todos"
   ]
  },
  {
   "cell_type": "code",
   "execution_count": 132,
   "metadata": {
    "collapsed": false
   },
   "outputs": [
    {
     "name": "stdout",
     "output_type": "stream",
     "text": [
      "[3 2 0]\n"
     ]
    }
   ],
   "source": [
    "a=np.random.choice(5,3,replace=False, p=[0.1,0,0.3,0.6,0])\n",
    "print(a)"
   ]
  },
  {
   "cell_type": "markdown",
   "metadata": {},
   "source": [
    "## Exercício I"
   ]
  },
  {
   "cell_type": "code",
   "execution_count": 119,
   "metadata": {
    "collapsed": false,
    "scrolled": true
   },
   "outputs": [
    {
     "name": "stderr",
     "output_type": "stream",
     "text": [
      "c:\\Anaconda3\\lib\\site-packages\\pyfits\\header.py:538: UserWarning: Header block contains null bytes instead of spaces for padding, and is not FITS-compliant. Nulls may be replaced with spaces upon writing.\n",
      "  'Header block contains null bytes instead of spaces for '\n"
     ]
    },
    {
     "data": {
      "image/png": "[encoded data removed]",
      "text/plain": [
       "<matplotlib.figure.Figure at 0x22b2c3e1438>"
      ]
     },
     "metadata": {},
     "output_type": "display_data"
    }
   ],
   "source": [
    "import numpy as np\n",
    "import pyfits\n",
    "import matplotlib.pyplot as plt\n",
    "%matplotlib inline\n",
    "\n",
    "hdulist=pyfits.open(\"tabela.fits\")\n",
    "tbdata=hdulist[1].data #Tabela esta na primeira HDU\n",
    "d=tbdata[\"StarMag\"]\n",
    "#y=list(np.sort(d))\n",
    "#print(y)\n",
    "d2=np.random.choice(d,1450,replace=False)\n",
    "plt.plot(d,\"r+\")\n",
    "\n",
    "\n",
    "\n",
    "#Insira o seu código aqui\n",
    "plt.plot(d2,\"bo\")\n",
    "plt.axis([-10,1470,-5,25])# aqui é  o tamanho do grafico\n",
    "\n",
    "\n",
    "\n",
    "plt.show()\n",
    "hdulist.close()\n"
   ]
  },
  {
   "cell_type": "markdown",
   "metadata": {},
   "source": [
    "## Distribuição Binomial"
   ]
  },
  {
   "cell_type": "code",
   "execution_count": 122,
   "metadata": {
    "collapsed": false,
    "scrolled": true
   },
   "outputs": [
    {
     "name": "stdout",
     "output_type": "stream",
     "text": [
      "[ 5  3  8  4  4  4  6  8  4  6  5  6  4  4  4  5  4  3  5  5  6  3  6  2  3\n",
      "  5  4  5  8  2  3  6  5  4  6  8  7  3  4  5  4  3  7  4  7  6  5  4  5  7\n",
      "  3  6  5  3  4  8  5  6  7  7  5  5  5  5  6  6  5  5  4  3  7  5  1  6  5\n",
      "  5  4  4  6  3  5  4  6  4  5  5  4  2  3  8  5  5  6  4  8  7  4  5  6  4\n",
      "  6  5  8  5  6  4  4  5  6  2  5  5  8  5  3  6  4  4  4  6  6  5  6  7  4\n",
      "  4  5  6  4  5  4  3  6  1  7  3  3  4  7  5  4  5  4  5  7  3  4  4  4  6\n",
      "  8  3  4  3  6  3  4  4  4  5  7  5  6  6  4  6  5  5  5  4  4  7  8  7  6\n",
      "  3  6  5  8  5  7  4  9  5  5  4  6  4  7  4  5  6  5  5  4  4  7  5  7  7\n",
      "  6  5  6  8  6  3  4  4  4  5  7  3  3  6  2  5  5  0  8  5  6  2  6  4  7\n",
      "  5  5  7  7  5  6  8  4  3  5  5  4  4  5  6  6  6  4  3  7  3  7  6  4  5\n",
      "  3  3  2  5  6  5  7  7  7  6  2  6  5  8  2  2  7  5  5  4  5  4  5  3  6\n",
      "  4  3  2  4  1  3  6  8  5  3  4  2  5  2  6  4  7  4  7  4  4  7  7  3  6\n",
      "  7  4  6  3  4  5  4  8  6  6  4  6  4  4  5  5  7  5  7  5  3  7  6  3  7\n",
      "  4  1  5  5  6  4  2  4  3  8  7  4  4  6  8  7  6  6  3  3  5  6  6  3  4\n",
      "  4  3  4  5  6  4  3  4  5  6  5  5  2  4  4  6  5  4  5  3  6  7  6  6  4\n",
      "  5  6  4  6  6  5  3  5  5  6  5  4  5  5  6  6  7  6  6  5  6  6  5  3  8\n",
      "  5  2  5  5  3  5  5  2  7  7  4  9  4  6  5  5  4  6  7  5  6  4  3  4  3\n",
      "  5  6  6  6  2  3  3  9  5  5  4  3  4  6  8  7  5  7  8  4  5  4  5  5  1\n",
      "  5  4  6  4  4  4  5  5  3  3  5  6  7  7  6  7  8  5  4  2  4  4  3  3  8\n",
      "  3  2  7  5  7  2  4  5  7  6  7  3  2  4  6  7  6  4  4  3  8  5  5  7  6\n",
      "  2  6  7  5  4  4  3  5  5  5  6  4  6  5  5  6  3  7  4  6  5  5  1  1  3\n",
      "  5  5  5  5  6  5  3  7  2  4  2  4  4  5  6  8  4  4  7  5  2  4  5  6  4\n",
      "  7  7  7  5  4  2  4  4  4  7  6  6  5  3  8  2  5  5  5  3  4  4  6  5  6\n",
      "  5  3  6  5  5  7  7  5  4  6  4  3  8  5  6  2  5  1  6  4  3  5  8  5  7\n",
      "  8  7  6  6  6  5  5  5  5  6  6  8 10  5  5  5  6  3  4  4  7  7  6  5  7\n",
      "  2  3  4  6 10  4  4  4  4  2  7  2  5  7  3  3  5  6  4  8  6  5  3  4  3\n",
      "  8  7  6  4  5  5  6  5  3  5  7  5  4  4  7  5  5  5  5  5  5  6  7  4  5\n",
      "  4  6  5  4  3  6  4  7  4  7  3  5  7  6  3  5  7  7  3  5  6  5  5  8  3\n",
      "  6  6  5  4  5  3  5  5  5  6  6  7  5  7  5  6  5  6  6  3  5  6  1  5  8\n",
      "  4  4  5  5  3  4  4  6  4  4  3  7  6  5  4  3  6  6  6  4  5  6  5  5  6\n",
      "  6  5  6  3  3  8  5  3  6  2  5  7  4  4  5  3  6  5  7  5  5  2  3  4  2\n",
      "  3  7  7  3  4  6  9  5  3  6  6  6  6  6  6  3  1  5  5  5  5  6  4  6  4\n",
      "  0  3  4  8  4  5  4  4  5  8  5  6  7  3  2  3  1  5  4  2  7  2  5  4  4\n",
      "  3  6  5  8  3  5  7  6  6  6  7  6  5  4  4  6  4  4  4  5  9  6  4  6  6\n",
      "  5  5  4  5  5  6  7  6  6  8  6  6  6  4  6  5  3  7  7  5  2  4  4  7  7\n",
      "  5  2  5  2  6  6  5  5  4  2  4  4  5  6  7  4  3  3  4  6  6  7  7  4  5\n",
      "  3  6  5  5  5  4  4  5  5  6  4  3  2  4  7  2  5  5  5  8  7  6  8  3  5\n",
      "  6  2  5  4  4  6  5  7  5  8  3  4  7  6  6  7  3  3  4  4  6  1  6  5  7\n",
      "  6  5  7  3  8  6  4  3  4  2  4  5  5  6  8  3  5  3  6  6  5  3  3  2  6\n",
      "  5  3  8  4  5  4  4  5  5  6  5  7  5  6  2  9  5  3  5  7  4  8  4  4  3]\n"
     ]
    }
   ],
   "source": [
    "n,p=10,0.5 #10 limite(nenhum numero passa de  10) e 0.5 numeros de probabilidade\n",
    "a=np.random.binomial(n,p,1000) #mil numeros\n",
    "print(a)"
   ]
  },
  {
   "cell_type": "markdown",
   "metadata": {},
   "source": [
    "## Distribuição Normal"
   ]
  },
  {
   "cell_type": "code",
   "execution_count": 124,
   "metadata": {
    "collapsed": false
   },
   "outputs": [
    {
     "name": "stdout",
     "output_type": "stream",
     "text": [
      "[-2.23058796  0.24634804 -0.21808348  0.63842419  1.18338058]\n"
     ]
    }
   ],
   "source": [
    "a=np.random.standard_normal(5) #Quer 5 numeros na  forma padrão\n",
    "print(a)"
   ]
  },
  {
   "cell_type": "markdown",
   "metadata": {},
   "source": [
    "## Exercício II"
   ]
  },
  {
   "cell_type": "code",
   "execution_count": 125,
   "metadata": {
    "collapsed": false
   },
   "outputs": [
    {
     "name": "stderr",
     "output_type": "stream",
     "text": [
      "c:\\Anaconda3\\lib\\site-packages\\pyfits\\header.py:538: UserWarning: Header block contains null bytes instead of spaces for padding, and is not FITS-compliant. Nulls may be replaced with spaces upon writing.\n",
      "  'Header block contains null bytes instead of spaces for '\n"
     ]
    },
    {
     "data": {
      "image/png": "[encoded data removed]",
      "text/plain": [
       "<matplotlib.figure.Figure at 0x22b2c434908>"
      ]
     },
     "metadata": {},
     "output_type": "display_data"
    }
   ],
   "source": [
    "import pyfits\n",
    "import matplotlib.pyplot as plt\n",
    "%matplotlib inline\n",
    "\n",
    "hdulist=pyfits.open(\"tabela.fits\")\n",
    "tbdata=hdulist[1].data\n",
    "d=tbdata[\"StarMag\"]\n",
    "plt.plot(d,\"ro\")\n",
    "\n",
    "#Insira o seu código aqui\n",
    "\n",
    "plt.show()\n",
    "hdulist.close()\n"
   ]
  },
  {
   "cell_type": "code",
   "execution_count": null,
   "metadata": {
    "collapsed": true
   },
   "outputs": [],
   "source": []
  }
 ],
 "metadata": {
  "kernelspec": {
   "display_name": "Python [Root]",
   "language": "python",
   "name": "Python [Root]"
  },
  "language_info": {
   "codemirror_mode": {
    "name": "ipython",
    "version": 3
   },
   "file_extension": ".py",
   "mimetype": "text/x-python",
   "name": "python",
   "nbconvert_exporter": "python",
   "pygments_lexer": "ipython3",
   "version": "3.5.2"
  }
 },
 "nbformat": 4,
 "nbformat_minor": 0
}
