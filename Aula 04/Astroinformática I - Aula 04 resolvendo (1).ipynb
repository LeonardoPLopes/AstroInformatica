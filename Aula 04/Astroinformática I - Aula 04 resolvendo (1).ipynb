{
 "cells": [
  {
   "cell_type": "markdown",
   "metadata": {},
   "source": [
    "## Assuntos cobertos: \n",
    "\n",
    "### Abertura e inspeção de arquivos FITS"
   ]
  },
  {
   "cell_type": "code",
   "execution_count": null,
   "metadata": {
    "collapsed": true
   },
   "outputs": [],
   "source": [
    "import pyfits"
   ]
  },
  {
   "cell_type": "code",
   "execution_count": 14,
   "metadata": {
    "collapsed": false
   },
   "outputs": [
    {
     "name": "stdout",
     "output_type": "stream",
     "text": [
      "Filename: tabela.fits\n",
      "No.    Name         Type      Cards   Dimensions   Format\n",
      "0    PRIMARY     PrimaryHDU       7   ()              \n",
      "1    PLN         TableHDU       105   1455R x 16C   [A9, I2, F5.2, A1, I2, F4.1, A1, F4.1, A1, I3, I4, A1, F4.1, A1, A1, I2]   \n"
     ]
    },
    {
     "name": "stderr",
     "output_type": "stream",
     "text": [
      "c:\\Anaconda3\\lib\\site-packages\\pyfits\\header.py:538: UserWarning: Header block contains null bytes instead of spaces for padding, and is not FITS-compliant. Nulls may be replaced with spaces upon writing.\n",
      "  'Header block contains null bytes instead of spaces for '\n"
     ]
    }
   ],
   "source": [
    "hdulist = pyfits.open('tabela.fits')\n",
    "hdulist.info()\n",
    "hdulist.close()"
   ]
  },
  {
   "cell_type": "code",
   "execution_count": 19,
   "metadata": {
    "collapsed": false
   },
   "outputs": [
    {
     "data": {
      "text/plain": [
       "'05/05/91'"
      ]
     },
     "execution_count": 19,
     "metadata": {},
     "output_type": "execute_result"
    }
   ],
   "source": [
    "h=hdulist[0].header\n",
    "list(h.keys())\n",
    "h['DATE']"
   ]
  },
  {
   "cell_type": "code",
   "execution_count": 20,
   "metadata": {
    "collapsed": false
   },
   "outputs": [
    {
     "data": {
      "text/plain": [
       "['XTENSION',\n",
       " 'BITPIX',\n",
       " 'NAXIS',\n",
       " 'NAXIS1',\n",
       " 'NAXIS2',\n",
       " 'PCOUNT',\n",
       " 'GCOUNT',\n",
       " 'TFIELDS',\n",
       " 'EXTNAME',\n",
       " 'AUTHOR',\n",
       " 'REFERENC',\n",
       " 'DATE',\n",
       " '',\n",
       " 'HISTORY',\n",
       " 'HISTORY',\n",
       " 'HISTORY',\n",
       " 'HISTORY',\n",
       " 'HISTORY',\n",
       " 'HISTORY',\n",
       " 'HISTORY',\n",
       " '',\n",
       " 'TTYPE1',\n",
       " 'TBCOL1',\n",
       " 'TFORM1',\n",
       " '',\n",
       " 'TTYPE2',\n",
       " 'TBCOL2',\n",
       " 'TFORM2',\n",
       " 'TUNIT2',\n",
       " '',\n",
       " 'TTYPE3',\n",
       " 'TBCOL3',\n",
       " 'TFORM3',\n",
       " 'TUNIT3',\n",
       " '',\n",
       " 'TTYPE4',\n",
       " 'TBCOL4',\n",
       " 'TFORM4',\n",
       " '',\n",
       " 'TTYPE5',\n",
       " 'TBCOL5',\n",
       " 'TFORM5',\n",
       " 'TUNIT5',\n",
       " '',\n",
       " 'TTYPE6',\n",
       " 'TBCOL6',\n",
       " 'TFORM6',\n",
       " 'TUNIT6',\n",
       " '',\n",
       " 'TTYPE7',\n",
       " 'TBCOL7',\n",
       " 'TFORM7',\n",
       " '',\n",
       " 'TTYPE8',\n",
       " 'TBCOL8',\n",
       " 'TFORM8',\n",
       " 'TUNIT8',\n",
       " 'TNULL8',\n",
       " '',\n",
       " 'TTYPE9',\n",
       " 'TBCOL9',\n",
       " 'TFORM9',\n",
       " 'TNULL9',\n",
       " 'COMMENT',\n",
       " 'COMMENT',\n",
       " '',\n",
       " 'TTYPE10',\n",
       " 'TBCOL10',\n",
       " 'TFORM10',\n",
       " 'TUNIT10',\n",
       " 'TNULL10',\n",
       " '',\n",
       " 'TTYPE11',\n",
       " 'TBCOL11',\n",
       " 'TFORM11',\n",
       " 'TUNIT11',\n",
       " 'TNULL11',\n",
       " '',\n",
       " 'TTYPE12',\n",
       " 'TBCOL12',\n",
       " 'TFORM12',\n",
       " 'TNULL12',\n",
       " '',\n",
       " 'TTYPE13',\n",
       " 'TBCOL13',\n",
       " 'TFORM13',\n",
       " 'TUNIT13',\n",
       " 'TNULL13',\n",
       " '',\n",
       " 'TTYPE14',\n",
       " 'TBCOL14',\n",
       " 'TFORM14',\n",
       " 'TNULL14',\n",
       " '',\n",
       " 'TTYPE15',\n",
       " 'TBCOL15',\n",
       " 'TFORM15',\n",
       " 'TNULL15',\n",
       " '',\n",
       " 'TTYPE16',\n",
       " 'TBCOL16',\n",
       " 'TFORM16',\n",
       " 'TUNIT16',\n",
       " 'TNULL16',\n",
       " '']"
      ]
     },
     "execution_count": 20,
     "metadata": {},
     "output_type": "execute_result"
    }
   ],
   "source": [
    "h=hdulist[1].header\n",
    "list(h.keys())"
   ]
  },
  {
   "cell_type": "code",
   "execution_count": 26,
   "metadata": {
    "collapsed": false
   },
   "outputs": [
    {
     "name": "stdout",
     "output_type": "stream",
     "text": [
      "2.79175 6.32171 0.0 21.0\n"
     ]
    },
    {
     "name": "stderr",
     "output_type": "stream",
     "text": [
      "c:\\Anaconda3\\lib\\site-packages\\pyfits\\header.py:538: UserWarning: Header block contains null bytes instead of spaces for padding, and is not FITS-compliant. Nulls may be replaced with spaces upon writing.\n",
      "  'Header block contains null bytes instead of spaces for '\n"
     ]
    }
   ],
   "source": [
    "hdulist = pyfits.open('tabela.fits')\n",
    "d=hdulist[1].data\n",
    "#c=hdulist[1].columns\n",
    "#c.names\n",
    "\n",
    "mag=d['StarMag']\n",
    "#print(list(mag))\n",
    "print(mag.mean(),mag.std(),mag.min(),mag.max())"
   ]
  },
  {
   "cell_type": "code",
   "execution_count": 10,
   "metadata": {
    "collapsed": false
   },
   "outputs": [
    {
     "name": "stdout",
     "output_type": "stream",
     "text": [
      "Filename: imagem.fits\n",
      "No.    Name         Type      Cards   Dimensions   Format\n",
      "0    PRIMARY     PrimaryHDU     134   (1024, 1024)   float32   \n",
      "1    x38i0101t.c0h.tab  TableHDU        82   1R x 18C     [D25.16, D25.16, E15.7, E15.7, E15.7, E15.7, E15.7, E15.7, E15.7, E15.7, A4, E15.7, I11, I11, D25.16, D25.16, A8, A8]   \n"
     ]
    }
   ],
   "source": [
    "hdulist = pyfits.open('imagem.fits')\n",
    "hdulist.info()\n",
    "hdulist.close()"
   ]
  },
  {
   "cell_type": "code",
   "execution_count": 11,
   "metadata": {
    "collapsed": false
   },
   "outputs": [
    {
     "name": "stdout",
     "output_type": "stream",
     "text": [
      "Filename: CAS0.5-1.5kev.fits\n",
      "No.    Name         Type      Cards   Dimensions   Format\n",
      "0    PRIMARY     PrimaryHDU      26   (1024, 1024)   float32   \n"
     ]
    }
   ],
   "source": [
    "hdulist = pyfits.open('CAS0.5-1.5kev.fits')\n",
    "hdulist.info()\n",
    "hdulist.close()"
   ]
  },
  {
   "cell_type": "code",
   "execution_count": 12,
   "metadata": {
    "collapsed": false
   },
   "outputs": [
    {
     "name": "stdout",
     "output_type": "stream",
     "text": [
      "Filename: CAS1.5-3.0kev.fits\n",
      "No.    Name         Type      Cards   Dimensions   Format\n",
      "0    PRIMARY     PrimaryHDU      26   (1024, 1024)   float32   \n"
     ]
    }
   ],
   "source": [
    "hdulist = pyfits.open('CAS1.5-3.0kev.fits')\n",
    "hdulist.info()\n",
    "hdulist.close()"
   ]
  },
  {
   "cell_type": "code",
   "execution_count": 13,
   "metadata": {
    "collapsed": false
   },
   "outputs": [
    {
     "name": "stdout",
     "output_type": "stream",
     "text": [
      "Filename: CAS4.0-6.0kev.fits\n",
      "No.    Name         Type      Cards   Dimensions   Format\n",
      "0    PRIMARY     PrimaryHDU      26   (1024, 1024)   float32   \n"
     ]
    }
   ],
   "source": [
    "hdulist = pyfits.open('CAS4.0-6.0kev.fits')\n",
    "hdulist.info()\n",
    "hdulist.close()"
   ]
  },
  {
   "cell_type": "code",
   "execution_count": null,
   "metadata": {
    "collapsed": true
   },
   "outputs": [],
   "source": []
  }
 ],
 "metadata": {
  "kernelspec": {
   "display_name": "Python [Root]",
   "language": "python",
   "name": "Python [Root]"
  },
  "language_info": {
   "codemirror_mode": {
    "name": "ipython",
    "version": 3
   },
   "file_extension": ".py",
   "mimetype": "text/x-python",
   "name": "python",
   "nbconvert_exporter": "python",
   "pygments_lexer": "ipython3",
   "version": "3.5.2"
  }
 },
 "nbformat": 4,
 "nbformat_minor": 0
}
